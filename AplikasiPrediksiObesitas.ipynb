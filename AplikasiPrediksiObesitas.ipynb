{
 "cells": [
  {
   "cell_type": "markdown",
   "metadata": {},
   "source": [
    "1. Library yang digunakan"
   ]
  },
  {
   "cell_type": "code",
   "execution_count": 10,
   "metadata": {},
   "outputs": [],
   "source": [
    "import pandas as pd\n",
    "from sklearn.model_selection import train_test_split\n",
    "from sklearn.ensemble import RandomForestClassifier\n",
    "from sklearn.preprocessing import LabelEncoder, StandardScaler\n",
    "from sklearn.metrics import accuracy_score, classification_report\n",
    "import pickle"
   ]
  },
  {
   "cell_type": "markdown",
   "metadata": {},
   "source": [
    "2. Load Dataset"
   ]
  },
  {
   "cell_type": "code",
   "execution_count": 3,
   "metadata": {},
   "outputs": [],
   "source": [
    "def load_dataset(filepath):\n",
    "    try:\n",
    "        data = pd.read_csv(filepath)\n",
    "        return data\n",
    "    except Exception as e:\n",
    "        print(f\"Error loading dataset: {e}\")\n",
    "        raise"
   ]
  },
  {
   "cell_type": "markdown",
   "metadata": {},
   "source": [
    "3. Data Prepocessing"
   ]
  },
  {
   "cell_type": "code",
   "execution_count": 4,
   "metadata": {},
   "outputs": [],
   "source": [
    "def preprocess_data(data):\n",
    "    # Define categorical and numerical columns\n",
    "    categorical_cols = ['Gender', 'CALC', 'FAVC', 'SMOKE', 'family_history_with_overweight', 'CAEC', 'MTRANS']\n",
    "    numerical_cols = ['Age', 'Height', 'Weight', 'FCVC', 'NCP', 'CH2O', 'FAF', 'TUE']\n",
    "    \n",
    "    # Check for missing values and handle them (e.g., fill with the median for numerical columns)\n",
    "    data[numerical_cols] = data[numerical_cols].fillna(data[numerical_cols].median())\n",
    "    data[categorical_cols] = data[categorical_cols].fillna(data[categorical_cols].mode().iloc[0])\n",
    "\n",
    "    # Encode categorical columns\n",
    "    label_encoders = {}\n",
    "    for col in categorical_cols:\n",
    "        le = LabelEncoder()\n",
    "        data[col] = le.fit_transform(data[col])\n",
    "        label_encoders[col] = le\n",
    "\n",
    "    # Standardize numerical columns\n",
    "    scaler = StandardScaler()\n",
    "    data[numerical_cols] = scaler.fit_transform(data[numerical_cols])\n",
    "\n",
    "    # Encode target column\n",
    "    target_encoder = LabelEncoder()\n",
    "    data['NObeyesdad'] = target_encoder.fit_transform(data['NObeyesdad'])\n",
    "\n",
    "    return data, label_encoders, scaler, target_encoder"
   ]
  },
  {
   "cell_type": "markdown",
   "metadata": {},
   "source": [
    "4. Split Data"
   ]
  },
  {
   "cell_type": "code",
   "execution_count": 5,
   "metadata": {},
   "outputs": [],
   "source": [
    "def split_data(data):\n",
    "    features = ['Age', 'Height', 'Weight', 'FCVC', 'NCP', 'CH2O', 'FAF', 'TUE', 'Gender', 'CALC', 'FAVC', 'SMOKE', \n",
    "                'family_history_with_overweight', 'CAEC', 'MTRANS']\n",
    "    X = data[features]\n",
    "    y = data['NObeyesdad']\n",
    "    X_train, X_test, y_train, y_test = train_test_split(X, y, test_size=0.3, random_state=42)\n",
    "    return X_train, X_test, y_train, y_test"
   ]
  },
  {
   "cell_type": "markdown",
   "metadata": {},
   "source": [
    "5. Model Latih"
   ]
  },
  {
   "cell_type": "code",
   "execution_count": 6,
   "metadata": {},
   "outputs": [],
   "source": [
    "def train_model(X_train, y_train):\n",
    "    model = RandomForestClassifier(random_state=42, n_estimators=100)\n",
    "    model.fit(X_train, y_train)\n",
    "    return model"
   ]
  },
  {
   "cell_type": "markdown",
   "metadata": {},
   "source": [
    "6. save model"
   ]
  },
  {
   "cell_type": "code",
   "execution_count": 7,
   "metadata": {},
   "outputs": [],
   "source": [
    "def save_model_pickle(model, label_encoders, scaler, target_encoder, filepath):\n",
    "    with open(filepath, 'wb') as f:\n",
    "        pickle.dump({\n",
    "            \"model\": model,\n",
    "            \"label_encoders\": label_encoders,\n",
    "            \"scaler\": scaler,\n",
    "            \"target_encoder\": target_encoder\n",
    "        }, f)"
   ]
  },
  {
   "cell_type": "markdown",
   "metadata": {},
   "source": [
    "7. Load data pickle"
   ]
  },
  {
   "cell_type": "code",
   "execution_count": 8,
   "metadata": {},
   "outputs": [],
   "source": [
    "def load_model_pickle(filepath):\n",
    "    with open(filepath, 'rb') as f:\n",
    "        return pickle.load(f)"
   ]
  },
  {
   "cell_type": "markdown",
   "metadata": {},
   "source": [
    "8. Main script"
   ]
  },
  {
   "cell_type": "code",
   "execution_count": 9,
   "metadata": {},
   "outputs": [
    {
     "name": "stdout",
     "output_type": "stream",
     "text": [
      "Model Accuracy: 93.53%\n",
      "Classification Report:\n",
      "                     precision    recall  f1-score   support\n",
      "\n",
      "Insufficient_Weight       0.95      0.94      0.95        86\n",
      "      Normal_Weight       0.80      0.89      0.84        93\n",
      "     Obesity_Type_I       0.98      0.95      0.97       102\n",
      "    Obesity_Type_II       0.97      0.99      0.98        88\n",
      "   Obesity_Type_III       1.00      0.99      0.99        98\n",
      " Overweight_Level_I       0.89      0.84      0.87        88\n",
      "Overweight_Level_II       0.97      0.94      0.95        79\n",
      "\n",
      "           accuracy                           0.94       634\n",
      "          macro avg       0.94      0.93      0.94       634\n",
      "       weighted avg       0.94      0.94      0.94       634\n",
      "\n",
      "Model saved as obesity_model.pkl\n"
     ]
    }
   ],
   "source": [
    "if __name__ == \"__main__\":\n",
    "    # Load data\n",
    "    filepath = \"ObesityDataSet_raw_and_data_sinthetic.csv\"  # Replace with the correct path to your file\n",
    "    try:\n",
    "        data = load_dataset(filepath)\n",
    "    except Exception as e:\n",
    "        print(f\"Dataset could not be loaded: {e}\")\n",
    "        exit()\n",
    "\n",
    "    # Preprocess data\n",
    "    processed_data, label_encoders, scaler, target_encoder = preprocess_data(data)\n",
    "\n",
    "    # Split data\n",
    "    X_train, X_test, y_train, y_test = split_data(processed_data)\n",
    "\n",
    "    # Train model\n",
    "    model = train_model(X_train, y_train)\n",
    "\n",
    "    # Evaluate model\n",
    "    y_pred = model.predict(X_test)\n",
    "    accuracy = accuracy_score(y_test, y_pred)\n",
    "    print(f\"Model Accuracy: {accuracy * 100:.2f}%\")\n",
    "    print(\"Classification Report:\")\n",
    "    print(classification_report(y_test, y_pred, target_names=target_encoder.classes_))\n",
    "\n",
    "    # Save model using pickle\n",
    "    save_model_pickle(model, label_encoders, scaler, target_encoder, \"obesity_model.pkl\")\n",
    "    print(\"Model saved as obesity_model.pkl\")"
   ]
  }
 ],
 "metadata": {
  "kernelspec": {
   "display_name": ".venv",
   "language": "python",
   "name": "python3"
  },
  "language_info": {
   "codemirror_mode": {
    "name": "ipython",
    "version": 3
   },
   "file_extension": ".py",
   "mimetype": "text/x-python",
   "name": "python",
   "nbconvert_exporter": "python",
   "pygments_lexer": "ipython3",
   "version": "3.12.5"
  }
 },
 "nbformat": 4,
 "nbformat_minor": 2
}
